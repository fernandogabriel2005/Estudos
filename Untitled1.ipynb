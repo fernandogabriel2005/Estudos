{
  "nbformat": 4,
  "nbformat_minor": 0,
  "metadata": {
    "colab": {
      "provenance": [],
      "authorship_tag": "ABX9TyNLyOkQCYBbb2alHTey1NZW",
      "include_colab_link": true
    },
    "kernelspec": {
      "name": "python3",
      "display_name": "Python 3"
    },
    "language_info": {
      "name": "python"
    }
  },
  "cells": [
    {
      "cell_type": "markdown",
      "metadata": {
        "id": "view-in-github",
        "colab_type": "text"
      },
      "source": [
        "<a href=\"https://colab.research.google.com/github/fernandogabriel2005/Estudos/blob/main/Untitled1.ipynb\" target=\"_parent\"><img src=\"https://colab.research.google.com/assets/colab-badge.svg\" alt=\"Open In Colab\"/></a>"
      ]
    },
    {
      "cell_type": "code",
      "execution_count": 3,
      "metadata": {
        "id": "v5qQod8kTjgb",
        "colab": {
          "base_uri": "https://localhost:8080/"
        },
        "outputId": "d6568ff7-2a00-4154-9081-d78485b8f2e6"
      },
      "outputs": [
        {
          "output_type": "stream",
          "name": "stdout",
          "text": [
            "r\n",
            "ra\n",
            "rac\n",
            "race\n",
            "racec\n",
            "raceca\n",
            "racecar\n",
            "racecar, a condição de ser um palíndrimo é True \n"
          ]
        }
      ],
      "source": [
        "'''\n",
        "#Exercício 1: Conte quantas vezes a letra 'a' aparece na string \"abracadabra\".\n",
        "\n",
        "palavra = 'abracadabra'\n",
        "i = 0\n",
        "\n",
        "for letra in palavra:\n",
        "  if letra == 'a':\n",
        "    i += 1\n",
        "    print(f'{letra}  {i}')\n",
        "  else:\n",
        "    print(letra)\n",
        "\n",
        "\n",
        "\n",
        "#Exercício 2: Crie uma nova string contendo apenas as consoantes da string \"Hello World!\".\n",
        "\n",
        "frase = 'Hello World!'\n",
        "nova_frase = ''\n",
        "\n",
        "for letra in frase:\n",
        "  if letra != 'a' and letra != 'e' and letra != 'i' and letra != 'o' and letra != 'u':\n",
        "    nova_frase += letra\n",
        "print(nova_frase)\n",
        "\n",
        "\n",
        "Exercício 3: Verifique se a string \"racecar\" é um palíndromo (lê-se igual de trás para frente) usando um loop.\n",
        "\n",
        "string = 'racecar'\n",
        "string_invertida = string[::-1]\n",
        "nova_frase = ''\n",
        "condicao = False\n",
        "\n",
        "while nova_frase != string_invertida:\n",
        "  for letra in string:\n",
        "    nova_frase += letra\n",
        "    print(nova_frase)\n",
        "    if nova_frase == string_invertida:\n",
        "      condicao = True\n",
        "      print(f'{nova_frase}, a condição de ser um palíndrimo é {condicao} ')\n",
        "      break\n",
        "    else:\n",
        "      condicao = False\n",
        "'''"
      ]
    }
  ]
}